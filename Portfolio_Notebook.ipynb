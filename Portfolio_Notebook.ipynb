{
  "nbformat": 4,
  "nbformat_minor": 0,
  "metadata": {
    "colab": {
      "provenance": []
    },
    "kernelspec": {
      "name": "python3",
      "display_name": "Python 3"
    },
    "language_info": {
      "name": "python"
    }
  },
  "cells": [
    {
      "cell_type": "markdown",
      "source": [
        "# Soobin Oh Portfolio\n",
        "Github Link: https://github.com/soobino/adv_machine_learning\n",
        "\n",
        "* QMSS 5074\n",
        "* Advanced Machine Learning\n",
        "* Spring 2023"
      ],
      "metadata": {
        "id": "iig_IDptQQmG"
      }
    },
    {
      "cell_type": "markdown",
      "source": [
        "## Report on U.N. World Happiness Data\n",
        "* **Link**: https://github.com/soobino/adv_machine_learning/blob/main/reports/assignment_1.ipynb\n",
        "* **Data Set:** Country-level tabular data set with features (Social Support, GDP per Capita, Perception of corruption, Number of terrorist attack, and Healthy Life Expectancy) and target variable (Level of Happiness). \n",
        "* **Type of Models Used:** Random Forest, Gradient Boosting, and K Nearest Neighbor \n",
        "* **Leaderboard Performance:** 0.5294117647 Accuracy (vs. 0.5882352941 top ranked model)\n"
      ],
      "metadata": {
        "id": "ktAZlFv7QlId"
      }
    },
    {
      "cell_type": "markdown",
      "source": [
        "## Report on Covid Positive X-Ray Image Data\n",
        "\n",
        "* **Link:** https://github.com/soobino/adv_machine_learning/blob/main/reports/assignment_2.ipynb\n",
        "* **Data Set:** Image data set including X-Ray images of lungs of COVID, Viral Pneumonia, or Normal conditions \n",
        "* **Type of Models Used:** Batch normalization and regularization, inception model, and VGG16 model \n",
        "* **Leaderboard Performance:** 0.9527498064 Accuracy (vs. 0.9635941131 top ranked model)"
      ],
      "metadata": {
        "id": "IoyW2IgTQpF1"
      }
    },
    {
      "cell_type": "markdown",
      "source": [
        "## Report on Movie Review Classification\n",
        "\n",
        "* **Link:** https://github.com/soobino/adv_machine_learning/blob/main/reports/assignment_3.ipynb\n",
        "* **Data Set:** Text data sets including reviews at the movie level\n",
        "* **Type of Models Used:** Embedding, LSTM, Conv1d, glove embeddings\n",
        "* **Leader Board Performance:** 0.6432491767 Accuracy (vs. 0.9231613611 top ranked model)"
      ],
      "metadata": {
        "id": "nZkb9IONQvZe"
      }
    }
  ]
}