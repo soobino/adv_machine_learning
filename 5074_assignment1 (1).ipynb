{
  "cells": [
    {
      "cell_type": "markdown",
      "source": [
        "# Report on U.N. World Happiness Data\n",
        "Github Link: https://github.com/soobino/adv_machine_learning\n",
        "\n",
        "*   QMSS 5074\n",
        "*   Advanced Machine Learning \n",
        "*  Spring 2023"
      ],
      "metadata": {
        "id": "4R3MGfBWytiX"
      }
    },
    {
      "cell_type": "code",
      "source": [
        "#install aimodelshare library\n",
        "! pip install aimodelshare --upgrade"
      ],
      "metadata": {
        "colab": {
          "base_uri": "https://localhost:8080/"
        },
        "id": "0PoILnYoMAgb",
        "outputId": "28e0e44a-510b-414b-ea25-0b100576e24e"
      },
      "execution_count": 3,
      "outputs": [
        {
          "output_type": "stream",
          "name": "stdout",
          "text": [
            "Looking in indexes: https://pypi.org/simple, https://us-python.pkg.dev/colab-wheels/public/simple/\n",
            "Collecting aimodelshare\n",
            "  Downloading aimodelshare-0.0.178-py3-none-any.whl (966 kB)\n",
            "\u001b[2K     \u001b[90m━━━━━━━━━━━━━━━━━━━━━━━━━━━━━━━━━━━━━━\u001b[0m \u001b[32m967.0/967.0 KB\u001b[0m \u001b[31m16.9 MB/s\u001b[0m eta \u001b[36m0:00:00\u001b[0m\n",
            "\u001b[?25hCollecting scikit-learn==0.24.2\n",
            "  Downloading scikit_learn-0.24.2-cp38-cp38-manylinux2010_x86_64.whl (24.9 MB)\n",
            "\u001b[2K     \u001b[90m━━━━━━━━━━━━━━━━━━━━━━━━━━━━━━━━━━━━━━━━\u001b[0m \u001b[32m24.9/24.9 MB\u001b[0m \u001b[31m59.3 MB/s\u001b[0m eta \u001b[36m0:00:00\u001b[0m\n",
            "\u001b[?25hCollecting tf2onnx\n",
            "  Downloading tf2onnx-1.13.0-py3-none-any.whl (442 kB)\n",
            "\u001b[2K     \u001b[90m━━━━━━━━━━━━━━━━━━━━━━━━━━━━━━━━━━━━━━\u001b[0m \u001b[32m442.3/442.3 KB\u001b[0m \u001b[31m39.7 MB/s\u001b[0m eta \u001b[36m0:00:00\u001b[0m\n",
            "\u001b[?25hRequirement already satisfied: pydot==1.3.0 in /usr/local/lib/python3.8/dist-packages (from aimodelshare) (1.3.0)\n",
            "Collecting PyJWT>=2.4.0\n",
            "  Downloading PyJWT-2.6.0-py3-none-any.whl (20 kB)\n",
            "Collecting botocore==1.24.20\n",
            "  Downloading botocore-1.24.20-py3-none-any.whl (8.6 MB)\n",
            "\u001b[2K     \u001b[90m━━━━━━━━━━━━━━━━━━━━━━━━━━━━━━━━━━━━━━━━\u001b[0m \u001b[32m8.6/8.6 MB\u001b[0m \u001b[31m50.8 MB/s\u001b[0m eta \u001b[36m0:00:00\u001b[0m\n",
            "\u001b[?25hRequirement already satisfied: tensorflow==2.9.2 in /usr/local/lib/python3.8/dist-packages (from aimodelshare) (2.9.2)\n",
            "Collecting boto3==1.21.20\n",
            "  Downloading boto3-1.21.20-py3-none-any.whl (132 kB)\n",
            "\u001b[2K     \u001b[90m━━━━━━━━━━━━━━━━━━━━━━━━━━━━━━━━━━━━━━\u001b[0m \u001b[32m132.3/132.3 KB\u001b[0m \u001b[31m13.9 MB/s\u001b[0m eta \u001b[36m0:00:00\u001b[0m\n",
            "\u001b[?25hCollecting docker==5.0.0\n",
            "  Downloading docker-5.0.0-py2.py3-none-any.whl (146 kB)\n",
            "\u001b[2K     \u001b[90m━━━━━━━━━━━━━━━━━━━━━━━━━━━━━━━━━━━━━━\u001b[0m \u001b[32m147.0/147.0 KB\u001b[0m \u001b[31m12.0 MB/s\u001b[0m eta \u001b[36m0:00:00\u001b[0m\n",
            "\u001b[?25hCollecting onnxconverter-common>=1.7.0\n",
            "  Downloading onnxconverter_common-1.13.0-py2.py3-none-any.whl (83 kB)\n",
            "\u001b[2K     \u001b[90m━━━━━━━━━━━━━━━━━━━━━━━━━━━━━━━━━━━━━━━━\u001b[0m \u001b[32m83.8/83.8 KB\u001b[0m \u001b[31m11.7 MB/s\u001b[0m eta \u001b[36m0:00:00\u001b[0m\n",
            "\u001b[?25hCollecting wget==3.2\n",
            "  Downloading wget-3.2.zip (10 kB)\n",
            "  Preparing metadata (setup.py) ... \u001b[?25l\u001b[?25hdone\n",
            "Requirement already satisfied: torch>=1.8.1 in /usr/local/lib/python3.8/dist-packages (from aimodelshare) (1.13.1+cu116)\n",
            "Requirement already satisfied: regex in /usr/local/lib/python3.8/dist-packages (from aimodelshare) (2022.6.2)\n",
            "Requirement already satisfied: astunparse==1.6.3 in /usr/local/lib/python3.8/dist-packages (from aimodelshare) (1.6.3)\n",
            "Collecting onnxruntime>=1.7.0\n",
            "  Downloading onnxruntime-1.13.1-cp38-cp38-manylinux_2_27_x86_64.whl (4.5 MB)\n",
            "\u001b[2K     \u001b[90m━━━━━━━━━━━━━━━━━━━━━━━━━━━━━━━━━━━━━━━━\u001b[0m \u001b[32m4.5/4.5 MB\u001b[0m \u001b[31m96.6 MB/s\u001b[0m eta \u001b[36m0:00:00\u001b[0m\n",
            "\u001b[?25hCollecting onnx==1.12.0\n",
            "  Downloading onnx-1.12.0-cp38-cp38-manylinux_2_17_x86_64.manylinux2014_x86_64.whl (13.1 MB)\n",
            "\u001b[2K     \u001b[90m━━━━━━━━━━━━━━━━━━━━━━━━━━━━━━━━━━━━━━━━\u001b[0m \u001b[32m13.1/13.1 MB\u001b[0m \u001b[31m75.3 MB/s\u001b[0m eta \u001b[36m0:00:00\u001b[0m\n",
            "\u001b[?25hCollecting shortuuid>=1.0.8\n",
            "  Downloading shortuuid-1.0.11-py3-none-any.whl (10 kB)\n",
            "Collecting Pympler==0.9\n",
            "  Downloading Pympler-0.9.tar.gz (178 kB)\n",
            "\u001b[2K     \u001b[90m━━━━━━━━━━━━━━━━━━━━━━━━━━━━━━━━━━━━━━\u001b[0m \u001b[32m178.4/178.4 KB\u001b[0m \u001b[31m22.4 MB/s\u001b[0m eta \u001b[36m0:00:00\u001b[0m\n",
            "\u001b[?25h  Preparing metadata (setup.py) ... \u001b[?25l\u001b[?25hdone\n",
            "Collecting skl2onnx>=1.8.0\n",
            "  Downloading skl2onnx-1.13-py2.py3-none-any.whl (288 kB)\n",
            "\u001b[2K     \u001b[90m━━━━━━━━━━━━━━━━━━━━━━━━━━━━━━━━━━━━━━\u001b[0m \u001b[32m288.7/288.7 KB\u001b[0m \u001b[31m22.4 MB/s\u001b[0m eta \u001b[36m0:00:00\u001b[0m\n",
            "\u001b[?25hRequirement already satisfied: seaborn>=0.11.2 in /usr/local/lib/python3.8/dist-packages (from aimodelshare) (0.11.2)\n",
            "Requirement already satisfied: pathlib>=1.0.1 in /usr/local/lib/python3.8/dist-packages (from aimodelshare) (1.0.1)\n",
            "Collecting importlib-resources==5.10.0\n",
            "  Downloading importlib_resources-5.10.0-py3-none-any.whl (34 kB)\n",
            "Collecting onnxmltools>=1.6.1\n",
            "  Downloading onnxmltools-1.11.1-py3-none-any.whl (308 kB)\n",
            "\u001b[2K     \u001b[90m━━━━━━━━━━━━━━━━━━━━━━━━━━━━━━━━━━━━━━\u001b[0m \u001b[32m308.6/308.6 KB\u001b[0m \u001b[31m33.8 MB/s\u001b[0m eta \u001b[36m0:00:00\u001b[0m\n",
            "\u001b[?25hCollecting psutil>=5.9.1\n",
            "  Downloading psutil-5.9.4-cp36-abi3-manylinux_2_12_x86_64.manylinux2010_x86_64.manylinux_2_17_x86_64.manylinux2014_x86_64.whl (280 kB)\n",
            "\u001b[2K     \u001b[90m━━━━━━━━━━━━━━━━━━━━━━━━━━━━━━━━━━━━━━\u001b[0m \u001b[32m280.2/280.2 KB\u001b[0m \u001b[31m19.7 MB/s\u001b[0m eta \u001b[36m0:00:00\u001b[0m\n",
            "\u001b[?25hCollecting keras2onnx>=1.7.0\n",
            "  Downloading keras2onnx-1.7.0-py3-none-any.whl (96 kB)\n",
            "\u001b[2K     \u001b[90m━━━━━━━━━━━━━━━━━━━━━━━━━━━━━━━━━━━━━━━━\u001b[0m \u001b[32m96.3/96.3 KB\u001b[0m \u001b[31m13.1 MB/s\u001b[0m eta \u001b[36m0:00:00\u001b[0m\n",
            "\u001b[?25hRequirement already satisfied: six<2.0,>=1.6.1 in /usr/local/lib/python3.8/dist-packages (from astunparse==1.6.3->aimodelshare) (1.15.0)\n",
            "Requirement already satisfied: wheel<1.0,>=0.23.0 in /usr/local/lib/python3.8/dist-packages (from astunparse==1.6.3->aimodelshare) (0.38.4)\n",
            "Collecting s3transfer<0.6.0,>=0.5.0\n",
            "  Downloading s3transfer-0.5.2-py3-none-any.whl (79 kB)\n",
            "\u001b[2K     \u001b[90m━━━━━━━━━━━━━━━━━━━━━━━━━━━━━━━━━━━━━━━━\u001b[0m \u001b[32m79.5/79.5 KB\u001b[0m \u001b[31m10.4 MB/s\u001b[0m eta \u001b[36m0:00:00\u001b[0m\n",
            "\u001b[?25hCollecting jmespath<1.0.0,>=0.7.1\n",
            "  Downloading jmespath-0.10.0-py2.py3-none-any.whl (24 kB)\n",
            "Collecting urllib3<1.27,>=1.25.4\n",
            "  Downloading urllib3-1.26.14-py2.py3-none-any.whl (140 kB)\n",
            "\u001b[2K     \u001b[90m━━━━━━━━━━━━━━━━━━━━━━━━━━━━━━━━━━━━━━\u001b[0m \u001b[32m140.6/140.6 KB\u001b[0m \u001b[31m18.4 MB/s\u001b[0m eta \u001b[36m0:00:00\u001b[0m\n",
            "\u001b[?25hRequirement already satisfied: python-dateutil<3.0.0,>=2.1 in /usr/local/lib/python3.8/dist-packages (from botocore==1.24.20->aimodelshare) (2.8.2)\n",
            "Collecting websocket-client>=0.32.0\n",
            "  Downloading websocket_client-1.5.1-py3-none-any.whl (55 kB)\n",
            "\u001b[2K     \u001b[90m━━━━━━━━━━━━━━━━━━━━━━━━━━━━━━━━━━━━━━━━\u001b[0m \u001b[32m55.9/55.9 KB\u001b[0m \u001b[31m7.6 MB/s\u001b[0m eta \u001b[36m0:00:00\u001b[0m\n",
            "\u001b[?25hRequirement already satisfied: requests!=2.18.0,>=2.14.2 in /usr/local/lib/python3.8/dist-packages (from docker==5.0.0->aimodelshare) (2.25.1)\n",
            "Requirement already satisfied: zipp>=3.1.0 in /usr/local/lib/python3.8/dist-packages (from importlib-resources==5.10.0->aimodelshare) (3.12.0)\n",
            "Requirement already satisfied: protobuf<=3.20.1,>=3.12.2 in /usr/local/lib/python3.8/dist-packages (from onnx==1.12.0->aimodelshare) (3.19.6)\n",
            "Requirement already satisfied: typing-extensions>=3.6.2.1 in /usr/local/lib/python3.8/dist-packages (from onnx==1.12.0->aimodelshare) (4.4.0)\n",
            "Requirement already satisfied: numpy>=1.16.6 in /usr/local/lib/python3.8/dist-packages (from onnx==1.12.0->aimodelshare) (1.21.6)\n",
            "Requirement already satisfied: pyparsing>=2.1.4 in /usr/local/lib/python3.8/dist-packages (from pydot==1.3.0->aimodelshare) (3.0.9)\n",
            "Requirement already satisfied: scipy>=0.19.1 in /usr/local/lib/python3.8/dist-packages (from scikit-learn==0.24.2->aimodelshare) (1.7.3)\n",
            "Requirement already satisfied: threadpoolctl>=2.0.0 in /usr/local/lib/python3.8/dist-packages (from scikit-learn==0.24.2->aimodelshare) (3.1.0)\n",
            "Requirement already satisfied: joblib>=0.11 in /usr/local/lib/python3.8/dist-packages (from scikit-learn==0.24.2->aimodelshare) (1.2.0)\n",
            "Requirement already satisfied: tensorflow-io-gcs-filesystem>=0.23.1 in /usr/local/lib/python3.8/dist-packages (from tensorflow==2.9.2->aimodelshare) (0.30.0)\n",
            "Requirement already satisfied: grpcio<2.0,>=1.24.3 in /usr/local/lib/python3.8/dist-packages (from tensorflow==2.9.2->aimodelshare) (1.51.1)\n",
            "Requirement already satisfied: flatbuffers<2,>=1.12 in /usr/local/lib/python3.8/dist-packages (from tensorflow==2.9.2->aimodelshare) (1.12)\n",
            "Requirement already satisfied: gast<=0.4.0,>=0.2.1 in /usr/local/lib/python3.8/dist-packages (from tensorflow==2.9.2->aimodelshare) (0.4.0)\n",
            "Requirement already satisfied: opt-einsum>=2.3.2 in /usr/local/lib/python3.8/dist-packages (from tensorflow==2.9.2->aimodelshare) (3.3.0)\n",
            "Requirement already satisfied: keras<2.10.0,>=2.9.0rc0 in /usr/local/lib/python3.8/dist-packages (from tensorflow==2.9.2->aimodelshare) (2.9.0)\n",
            "Requirement already satisfied: libclang>=13.0.0 in /usr/local/lib/python3.8/dist-packages (from tensorflow==2.9.2->aimodelshare) (15.0.6.1)\n",
            "Requirement already satisfied: keras-preprocessing>=1.1.1 in /usr/local/lib/python3.8/dist-packages (from tensorflow==2.9.2->aimodelshare) (1.1.2)\n",
            "Requirement already satisfied: packaging in /usr/local/lib/python3.8/dist-packages (from tensorflow==2.9.2->aimodelshare) (23.0)\n",
            "Requirement already satisfied: h5py>=2.9.0 in /usr/local/lib/python3.8/dist-packages (from tensorflow==2.9.2->aimodelshare) (3.1.0)\n",
            "Requirement already satisfied: google-pasta>=0.1.1 in /usr/local/lib/python3.8/dist-packages (from tensorflow==2.9.2->aimodelshare) (0.2.0)\n",
            "Requirement already satisfied: setuptools in /usr/local/lib/python3.8/dist-packages (from tensorflow==2.9.2->aimodelshare) (57.4.0)\n",
            "Requirement already satisfied: tensorflow-estimator<2.10.0,>=2.9.0rc0 in /usr/local/lib/python3.8/dist-packages (from tensorflow==2.9.2->aimodelshare) (2.9.0)\n",
            "Requirement already satisfied: termcolor>=1.1.0 in /usr/local/lib/python3.8/dist-packages (from tensorflow==2.9.2->aimodelshare) (2.2.0)\n",
            "Requirement already satisfied: wrapt>=1.11.0 in /usr/local/lib/python3.8/dist-packages (from tensorflow==2.9.2->aimodelshare) (1.14.1)\n",
            "Requirement already satisfied: absl-py>=1.0.0 in /usr/local/lib/python3.8/dist-packages (from tensorflow==2.9.2->aimodelshare) (1.4.0)\n",
            "Requirement already satisfied: tensorboard<2.10,>=2.9 in /usr/local/lib/python3.8/dist-packages (from tensorflow==2.9.2->aimodelshare) (2.9.1)\n",
            "Collecting fire\n",
            "  Downloading fire-0.5.0.tar.gz (88 kB)\n",
            "\u001b[2K     \u001b[90m━━━━━━━━━━━━━━━━━━━━━━━━━━━━━━━━━━━━━━━━\u001b[0m \u001b[32m88.3/88.3 KB\u001b[0m \u001b[31m11.6 MB/s\u001b[0m eta \u001b[36m0:00:00\u001b[0m\n",
            "\u001b[?25h  Preparing metadata (setup.py) ... \u001b[?25l\u001b[?25hdone\n",
            "Collecting coloredlogs\n",
            "  Downloading coloredlogs-15.0.1-py2.py3-none-any.whl (46 kB)\n",
            "\u001b[2K     \u001b[90m━━━━━━━━━━━━━━━━━━━━━━━━━━━━━━━━━━━━━━━━\u001b[0m \u001b[32m46.0/46.0 KB\u001b[0m \u001b[31m5.9 MB/s\u001b[0m eta \u001b[36m0:00:00\u001b[0m\n",
            "\u001b[?25hRequirement already satisfied: sympy in /usr/local/lib/python3.8/dist-packages (from onnxruntime>=1.7.0->aimodelshare) (1.7.1)\n",
            "Requirement already satisfied: matplotlib>=2.2 in /usr/local/lib/python3.8/dist-packages (from seaborn>=0.11.2->aimodelshare) (3.2.2)\n",
            "Requirement already satisfied: pandas>=0.23 in /usr/local/lib/python3.8/dist-packages (from seaborn>=0.11.2->aimodelshare) (1.3.5)\n",
            "Requirement already satisfied: kiwisolver>=1.0.1 in /usr/local/lib/python3.8/dist-packages (from matplotlib>=2.2->seaborn>=0.11.2->aimodelshare) (1.4.4)\n",
            "Requirement already satisfied: cycler>=0.10 in /usr/local/lib/python3.8/dist-packages (from matplotlib>=2.2->seaborn>=0.11.2->aimodelshare) (0.11.0)\n",
            "Requirement already satisfied: pytz>=2017.3 in /usr/local/lib/python3.8/dist-packages (from pandas>=0.23->seaborn>=0.11.2->aimodelshare) (2022.7.1)\n",
            "Requirement already satisfied: certifi>=2017.4.17 in /usr/local/lib/python3.8/dist-packages (from requests!=2.18.0,>=2.14.2->docker==5.0.0->aimodelshare) (2022.12.7)\n",
            "Requirement already satisfied: idna<3,>=2.5 in /usr/local/lib/python3.8/dist-packages (from requests!=2.18.0,>=2.14.2->docker==5.0.0->aimodelshare) (2.10)\n",
            "Requirement already satisfied: chardet<5,>=3.0.2 in /usr/local/lib/python3.8/dist-packages (from requests!=2.18.0,>=2.14.2->docker==5.0.0->aimodelshare) (4.0.0)\n",
            "Requirement already satisfied: google-auth-oauthlib<0.5,>=0.4.1 in /usr/local/lib/python3.8/dist-packages (from tensorboard<2.10,>=2.9->tensorflow==2.9.2->aimodelshare) (0.4.6)\n",
            "Requirement already satisfied: markdown>=2.6.8 in /usr/local/lib/python3.8/dist-packages (from tensorboard<2.10,>=2.9->tensorflow==2.9.2->aimodelshare) (3.4.1)\n",
            "Requirement already satisfied: werkzeug>=1.0.1 in /usr/local/lib/python3.8/dist-packages (from tensorboard<2.10,>=2.9->tensorflow==2.9.2->aimodelshare) (1.0.1)\n",
            "Requirement already satisfied: tensorboard-plugin-wit>=1.6.0 in /usr/local/lib/python3.8/dist-packages (from tensorboard<2.10,>=2.9->tensorflow==2.9.2->aimodelshare) (1.8.1)\n",
            "Requirement already satisfied: google-auth<3,>=1.6.3 in /usr/local/lib/python3.8/dist-packages (from tensorboard<2.10,>=2.9->tensorflow==2.9.2->aimodelshare) (2.16.0)\n",
            "Requirement already satisfied: tensorboard-data-server<0.7.0,>=0.6.0 in /usr/local/lib/python3.8/dist-packages (from tensorboard<2.10,>=2.9->tensorflow==2.9.2->aimodelshare) (0.6.1)\n",
            "Collecting humanfriendly>=9.1\n",
            "  Downloading humanfriendly-10.0-py2.py3-none-any.whl (86 kB)\n",
            "\u001b[2K     \u001b[90m━━━━━━━━━━━━━━━━━━━━━━━━━━━━━━━━━━━━━━━━\u001b[0m \u001b[32m86.8/86.8 KB\u001b[0m \u001b[31m12.0 MB/s\u001b[0m eta \u001b[36m0:00:00\u001b[0m\n",
            "\u001b[?25hRequirement already satisfied: mpmath>=0.19 in /usr/local/lib/python3.8/dist-packages (from sympy->onnxruntime>=1.7.0->aimodelshare) (1.2.1)\n",
            "Requirement already satisfied: rsa<5,>=3.1.4 in /usr/local/lib/python3.8/dist-packages (from google-auth<3,>=1.6.3->tensorboard<2.10,>=2.9->tensorflow==2.9.2->aimodelshare) (4.9)\n",
            "Requirement already satisfied: pyasn1-modules>=0.2.1 in /usr/local/lib/python3.8/dist-packages (from google-auth<3,>=1.6.3->tensorboard<2.10,>=2.9->tensorflow==2.9.2->aimodelshare) (0.2.8)\n",
            "Requirement already satisfied: cachetools<6.0,>=2.0.0 in /usr/local/lib/python3.8/dist-packages (from google-auth<3,>=1.6.3->tensorboard<2.10,>=2.9->tensorflow==2.9.2->aimodelshare) (5.3.0)\n",
            "Requirement already satisfied: requests-oauthlib>=0.7.0 in /usr/local/lib/python3.8/dist-packages (from google-auth-oauthlib<0.5,>=0.4.1->tensorboard<2.10,>=2.9->tensorflow==2.9.2->aimodelshare) (1.3.1)\n",
            "Requirement already satisfied: importlib-metadata>=4.4 in /usr/local/lib/python3.8/dist-packages (from markdown>=2.6.8->tensorboard<2.10,>=2.9->tensorflow==2.9.2->aimodelshare) (6.0.0)\n",
            "Requirement already satisfied: pyasn1<0.5.0,>=0.4.6 in /usr/local/lib/python3.8/dist-packages (from pyasn1-modules>=0.2.1->google-auth<3,>=1.6.3->tensorboard<2.10,>=2.9->tensorflow==2.9.2->aimodelshare) (0.4.8)\n",
            "Requirement already satisfied: oauthlib>=3.0.0 in /usr/local/lib/python3.8/dist-packages (from requests-oauthlib>=0.7.0->google-auth-oauthlib<0.5,>=0.4.1->tensorboard<2.10,>=2.9->tensorflow==2.9.2->aimodelshare) (3.2.2)\n",
            "Building wheels for collected packages: Pympler, wget, fire\n",
            "  Building wheel for Pympler (setup.py) ... \u001b[?25l\u001b[?25hdone\n",
            "  Created wheel for Pympler: filename=Pympler-0.9-py3-none-any.whl size=164822 sha256=f1ef78c0d207ae5d6f43429f0d0c4d81a2c7611be0411e902059e0e3c94c4633\n",
            "  Stored in directory: /root/.cache/pip/wheels/24/6f/0b/da9f81234859a8741aaea3afcc6ae2daf0efb67e7ff2d3686c\n",
            "  Building wheel for wget (setup.py) ... \u001b[?25l\u001b[?25hdone\n",
            "  Created wheel for wget: filename=wget-3.2-py3-none-any.whl size=9674 sha256=dd530c811ca2d040e61b5eb720726889a1cdfe4abb26762ba650bf103826db5c\n",
            "  Stored in directory: /root/.cache/pip/wheels/bd/a8/c3/3cf2c14a1837a4e04bd98631724e81f33f462d86a1d895fae0\n",
            "  Building wheel for fire (setup.py) ... \u001b[?25l\u001b[?25hdone\n",
            "  Created wheel for fire: filename=fire-0.5.0-py2.py3-none-any.whl size=116949 sha256=a502b0a1501eee37ae2ff336afb956a191fdf8911959835b47e6d5a4e29bf954\n",
            "  Stored in directory: /root/.cache/pip/wheels/5b/eb/43/7295e71293b218ddfd627f935229bf54af9018add7fbb5aac6\n",
            "Successfully built Pympler wget fire\n",
            "Installing collected packages: wget, Pympler, websocket-client, urllib3, shortuuid, PyJWT, psutil, onnx, jmespath, importlib-resources, humanfriendly, fire, scikit-learn, onnxconverter-common, coloredlogs, botocore, tf2onnx, skl2onnx, s3transfer, onnxruntime, keras2onnx, docker, onnxmltools, boto3, aimodelshare\n",
            "  Attempting uninstall: urllib3\n",
            "    Found existing installation: urllib3 1.24.3\n",
            "    Uninstalling urllib3-1.24.3:\n",
            "      Successfully uninstalled urllib3-1.24.3\n",
            "  Attempting uninstall: psutil\n",
            "    Found existing installation: psutil 5.4.8\n",
            "    Uninstalling psutil-5.4.8:\n",
            "      Successfully uninstalled psutil-5.4.8\n",
            "  Attempting uninstall: importlib-resources\n",
            "    Found existing installation: importlib-resources 5.10.2\n",
            "    Uninstalling importlib-resources-5.10.2:\n",
            "      Successfully uninstalled importlib-resources-5.10.2\n",
            "  Attempting uninstall: scikit-learn\n",
            "    Found existing installation: scikit-learn 1.0.2\n",
            "    Uninstalling scikit-learn-1.0.2:\n",
            "      Successfully uninstalled scikit-learn-1.0.2\n",
            "\u001b[31mERROR: pip's dependency resolver does not currently take into account all the packages that are installed. This behaviour is the source of the following dependency conflicts.\n",
            "yellowbrick 1.5 requires scikit-learn>=1.0.0, but you have scikit-learn 0.24.2 which is incompatible.\u001b[0m\u001b[31m\n",
            "\u001b[0mSuccessfully installed PyJWT-2.6.0 Pympler-0.9 aimodelshare-0.0.178 boto3-1.21.20 botocore-1.24.20 coloredlogs-15.0.1 docker-5.0.0 fire-0.5.0 humanfriendly-10.0 importlib-resources-5.10.0 jmespath-0.10.0 keras2onnx-1.7.0 onnx-1.12.0 onnxconverter-common-1.13.0 onnxmltools-1.11.1 onnxruntime-1.13.1 psutil-5.9.4 s3transfer-0.5.2 scikit-learn-0.24.2 shortuuid-1.0.11 skl2onnx-1.13 tf2onnx-1.13.0 urllib3-1.26.14 websocket-client-1.5.1 wget-3.2\n"
          ]
        }
      ]
    },
    {
      "cell_type": "markdown",
      "metadata": {
        "id": "5gSrVJwp3E9H"
      },
      "source": [
        "## Import Data"
      ]
    },
    {
      "cell_type": "code",
      "execution_count": 4,
      "metadata": {
        "id": "l-YsXXXcUQ9G",
        "colab": {
          "base_uri": "https://localhost:8080/"
        },
        "outputId": "e2483d81-3b41-4b16-9529-9900ba625b2a"
      },
      "outputs": [
        {
          "output_type": "stream",
          "name": "stdout",
          "text": [
            "Mounted at /content/drive\n"
          ]
        }
      ],
      "source": [
        "# Upload world happiness competition data zip into the environment (refreshes every run time)!\n",
        "\n",
        "# importing the zipfile module\n",
        "from zipfile import ZipFile\n",
        "  \n",
        "# loading the temp.zip and creating a zip object\n",
        "with ZipFile(\"world_happiness_competition_data.zip\", 'r') as zObject:\n",
        "  \n",
        "    # Extracting all the members of the zip \n",
        "    # into a specific location.\n",
        "    zObject.extractall()\n",
        "\n",
        "from google.colab import drive\n",
        "drive.mount('/content/drive')"
      ]
    },
    {
      "cell_type": "code",
      "execution_count": 5,
      "metadata": {
        "id": "jT0qFCZFNzHq"
      },
      "outputs": [],
      "source": [
        "# Load data\n",
        "import pandas as pd\n",
        "X_train = pd.read_csv('world_happiness_competition_data/X_train.csv')\n",
        "X_test = pd.read_csv('world_happiness_competition_data/X_test.csv')\n",
        "y_train = pd.read_csv('world_happiness_competition_data/y_train.csv')\n",
        "y_train_labels = y_train.idxmax(axis=1)"
      ]
    },
    {
      "cell_type": "markdown",
      "source": [
        "## 1. Explore bivariate results (Use visualizations!)\n",
        "**Describe any relationships you see between particular features and the target variable**"
      ],
      "metadata": {
        "id": "JgI2ZLG8kf41"
      }
    },
    {
      "cell_type": "markdown",
      "source": [
        "We observed that Social Support has the highest correlation to our target variable (Level of Happiness). GDP per Capita and Healthy Life Expectancy also show some sign of correlation. Perception of corruption is pretty stable at < 0.2 except for within the Very High category, which stands out. Number of terrorist attack is also generally stable at < 500 but Very Low category stands out with outliers with 1000-6000. "
      ],
      "metadata": {
        "id": "nOQ9sO1NDExm"
      }
    },
    {
      "cell_type": "code",
      "source": [
        "import matplotlib.pyplot as plt\n",
        "plt.style.use('seaborn-whitegrid')\n",
        "import numpy as np\n",
        "\n",
        "datamap = {'Very Low':1,'Low':2,'Average':3, 'High':4, 'Very High': 5}\n",
        "y_num = list(map(lambda x: datamap[x], y_train_labels))\n",
        "\n",
        "plt.plot(X_train['GDP per capita'], y_num,'o')\n",
        "plt.yticks([1,2,3,4,5], datamap)\n",
        "plt.show()\n",
        "    "
      ],
      "metadata": {
        "colab": {
          "base_uri": "https://localhost:8080/",
          "height": 262
        },
        "id": "ifmuIg8F7k5a",
        "outputId": "d2a14c25-f48e-40f5-a259-5122f6be45c7"
      },
      "execution_count": null,
      "outputs": [
        {
          "output_type": "display_data",
          "data": {
            "text/plain": [
              "<Figure size 432x288 with 1 Axes>"
            ],
            "image/png": "[encoded data removed]"
          },
          "metadata": {}
        }
      ]
    },
    {
      "cell_type": "code",
      "source": [
        "plt.plot(X_train['Social support'], y_num,'o')\n",
        "plt.yticks([1,2,3,4,5], datamap)\n",
        "plt.show()"
      ],
      "metadata": {
        "colab": {
          "base_uri": "https://localhost:8080/",
          "height": 262
        },
        "id": "LjUDjvofCLy9",
        "outputId": "d2d55a9c-245f-49b9-d7ee-bb2a5ac250bf"
      },
      "execution_count": null,
      "outputs": [
        {
          "output_type": "display_data",
          "data": {
            "text/plain": [
              "<Figure size 432x288 with 1 Axes>"
            ],
            "image/png": "[encoded data removed]"
          },
          "metadata": {}
        }
      ]
    },
    {
      "cell_type": "code",
      "source": [
        "plt.plot(X_train['Healthy life expectancy'], y_num,'o')\n",
        "plt.yticks([1,2,3,4,5], datamap)\n",
        "plt.show()"
      ],
      "metadata": {
        "colab": {
          "base_uri": "https://localhost:8080/",
          "height": 262
        },
        "id": "6KwPnvmnCk7M",
        "outputId": "ebf36749-e98a-47d7-dc1e-3b09b38e89c0"
      },
      "execution_count": null,
      "outputs": [
        {
          "output_type": "display_data",
          "data": {
            "text/plain": [
              "<Figure size 432x288 with 1 Axes>"
            ],
            "image/png": "[encoded data removed]"
          },
          "metadata": {}
        }
      ]
    },
    {
      "cell_type": "code",
      "source": [
        "plt.plot(X_train['Freedom to make life choices'], y_num,'o')\n",
        "plt.yticks([1,2,3,4,5], datamap)\n",
        "plt.show() "
      ],
      "metadata": {
        "colab": {
          "base_uri": "https://localhost:8080/",
          "height": 262
        },
        "id": "oXxIyeu1DLmY",
        "outputId": "d869587c-d707-4815-cc01-742f34580df9"
      },
      "execution_count": null,
      "outputs": [
        {
          "output_type": "display_data",
          "data": {
            "text/plain": [
              "<Figure size 432x288 with 1 Axes>"
            ],
            "image/png": "[encoded data removed]"
          },
          "metadata": {}
        }
      ]
    },
    {
      "cell_type": "code",
      "source": [
        "plt.plot(X_train['Generosity'], y_num,'o')\n",
        "plt.yticks([1,2,3,4,5], datamap)\n",
        "plt.show()"
      ],
      "metadata": {
        "colab": {
          "base_uri": "https://localhost:8080/",
          "height": 262
        },
        "id": "jdCnwyxEDeMl",
        "outputId": "a7a79342-4513-4644-df72-a6da7e5825d4"
      },
      "execution_count": null,
      "outputs": [
        {
          "output_type": "display_data",
          "data": {
            "text/plain": [
              "<Figure size 432x288 with 1 Axes>"
            ],
            "image/png": "[encoded data removed]"
          },
          "metadata": {}
        }
      ]
    },
    {
      "cell_type": "code",
      "source": [
        "plt.plot(X_train['Perceptions of corruption'], y_num,'o')\n",
        "plt.yticks([1,2,3,4,5], datamap)\n",
        "plt.show()"
      ],
      "metadata": {
        "colab": {
          "base_uri": "https://localhost:8080/",
          "height": 262
        },
        "id": "WbD_v5QBDkB2",
        "outputId": "e6c48909-bb71-4b6e-88d5-f09ddb403fcf"
      },
      "execution_count": null,
      "outputs": [
        {
          "output_type": "display_data",
          "data": {
            "text/plain": [
              "<Figure size 432x288 with 1 Axes>"
            ],
            "image/png": "[encoded data removed]"
          },
          "metadata": {}
        }
      ]
    },
    {
      "cell_type": "code",
      "source": [
        "plt.plot(X_train['Terrorist_attacks'], y_num,'o')\n",
        "plt.yticks([1,2,3,4,5], datamap)\n",
        "plt.show()"
      ],
      "metadata": {
        "colab": {
          "base_uri": "https://localhost:8080/",
          "height": 262
        },
        "id": "7nRpPQpnDpas",
        "outputId": "eb03f778-225a-4736-d5e4-cd16b4ee8816"
      },
      "execution_count": null,
      "outputs": [
        {
          "output_type": "display_data",
          "data": {
            "text/plain": [
              "<Figure size 432x288 with 1 Axes>"
            ],
            "image/png": "[encoded data removed]"
          },
          "metadata": {}
        }
      ]
    },
    {
      "cell_type": "markdown",
      "source": [
        "## 2. Examine features that predict happiness categories using one or more models that allow for automatic feature selection\n",
        "**Explain any meaningful findings**\n"
      ],
      "metadata": {
        "id": "DnR5-inOzg6v"
      }
    },
    {
      "cell_type": "markdown",
      "source": [
        "We use permutation importance to examine the features that can predict happiness categories. From the this, we see that GDP per Capita is the most important with the highest contribution to accurcy score. Then, it is followed by Healthy Life Expectancy and Social Support, which is in line with our observations from the bivariate analyses. "
      ],
      "metadata": {
        "id": "ECqKxAm0NsjT"
      }
    },
    {
      "cell_type": "markdown",
      "metadata": {
        "id": "gEzPoXPj3V7u"
      },
      "source": [
        "### Preprocess data using Sklearn Column Transformer/ Write and Save Preprocessor function\n"
      ]
    },
    {
      "cell_type": "code",
      "execution_count": 6,
      "metadata": {
        "id": "16QV9Y9TC3B3"
      },
      "outputs": [],
      "source": [
        "from sklearn.preprocessing import StandardScaler, OneHotEncoder\n",
        "from sklearn.compose import ColumnTransformer, make_column_transformer\n",
        "from sklearn.pipeline import Pipeline\n",
        "from sklearn.impute import SimpleImputer\n",
        "from sklearn.preprocessing import StandardScaler, OneHotEncoder\n",
        "\n",
        "# We create the preprocessing pipelines for both numeric and categorical data.\n",
        "\n",
        "numeric_features = X_train.drop(['Country or region', 'name', 'region', 'sub-region'], axis=1)\n",
        "numeric_features=numeric_features.columns.tolist()\n",
        "\n",
        "numeric_transformer = Pipeline(steps=[\n",
        "    ('imputer', SimpleImputer(strategy='median')),\n",
        "    ('scaler', StandardScaler())])\n",
        "\n",
        "categorical_features = ['region', 'sub-region']\n",
        "\n",
        "#Replacing missing values with Modal value and then one hot encoding.\n",
        "categorical_transformer = Pipeline(steps=[\n",
        "    ('imputer', SimpleImputer(strategy='most_frequent')),\n",
        "    ('onehot', OneHotEncoder(handle_unknown='ignore'))])\n",
        "\n",
        "# final preprocessor object set up with ColumnTransformer\n",
        "preprocessor = ColumnTransformer(\n",
        "    transformers=[\n",
        "        ('num', numeric_transformer, numeric_features),\n",
        "        ('cat', categorical_transformer, categorical_features)])\n",
        "\n",
        "#Fit your preprocessor object\n",
        "preprocess=preprocessor.fit(X_train) \n",
        "\n",
        "def preprocessor(data):\n",
        "    data.drop(['Country or region', 'name'], axis=1)\n",
        "    preprocessed_data=preprocess.transform(data)\n",
        "    return preprocessed_data"
      ]
    },
    {
      "cell_type": "code",
      "source": [
        "from sklearn.inspection import permutation_importance\n",
        "from sklearn.pipeline import Pipeline\n",
        "from sklearn.ensemble import RandomForestClassifier\n",
        "\n",
        "rf = Pipeline([\n",
        "    ('preprocess', preprocess),\n",
        "    # put your model below\n",
        "    ('classifier', RandomForestClassifier(random_state=42))\n",
        "])\n",
        "\n",
        "rf.fit(X_train, y_train)\n",
        "\n",
        "result = permutation_importance(rf, X_train, y_train)\n",
        "\n",
        "sorted_importances_idx = result.importances_mean.argsort()\n",
        "importances = pd.DataFrame(\n",
        "    result.importances[sorted_importances_idx].T,\n",
        "    columns=X_train.columns[sorted_importances_idx],\n",
        ")\n",
        "ax = importances.plot.box(vert=False, whis=10)\n",
        "ax.set_title(\"Permutation Importances of World Happiness Features\")\n",
        "ax.axvline(x=0, color=\"k\", linestyle=\"--\")\n",
        "ax.set_xlabel(\"Decrease in accuracy score\")\n",
        "ax.figure.tight_layout()"
      ],
      "metadata": {
        "id": "kuPvLHqaNc-8",
        "colab": {
          "base_uri": "https://localhost:8080/",
          "height": 297
        },
        "outputId": "d67463d1-a2b3-490d-b92c-70f6047b5bad"
      },
      "execution_count": 12,
      "outputs": [
        {
          "output_type": "display_data",
          "data": {
            "text/plain": [
              "<Figure size 432x288 with 1 Axes>"
            ],
            "image/png": "[encoded data removed]"
          },
          "metadata": {
            "needs_background": "light"
          }
        }
      ]
    },
    {
      "cell_type": "markdown",
      "source": [
        "## 3. Experiment with different prediction models to try to predict World Happiness well (Fit and compare, at minimum, three models)\n",
        "**Discuss which models you tried and which models performed better and point out relevant hyper-parameter values for successful models.**"
      ],
      "metadata": {
        "id": "d3iDpwrVFqsi"
      }
    },
    {
      "cell_type": "markdown",
      "source": [
        "I used GridSearch CV to find the best hyper parameters to tune my Random Forest, Gradient Boosting, and K Nearest Neighbor models. Best mean cross-validation scores came from Gradient Boosting with 0.683 when tuned with learning rate of 1.0, max depth of 7, max feature as sqrt, and number of estimator as 10. It was closely followed by Random Forest with mean cross validation score of 0.672 when tuned with max depth of 10, max feature as auto, and number of estimators as 10. K nearest neighbor had relatively lower mean cross validation score of 0.521.\n"
      ],
      "metadata": {
        "id": "-JXuLQVVSVkp"
      }
    },
    {
      "cell_type": "markdown",
      "source": [
        "### Fit and Tune Models \n"
      ],
      "metadata": {
        "id": "HIuzYiGRFnIX"
      }
    },
    {
      "cell_type": "code",
      "source": [
        "# Grid Search CV - Random Forest\n",
        "\n",
        "from sklearn.ensemble import RandomForestClassifier\n",
        "from sklearn.model_selection import GridSearchCV\n",
        "import numpy as np\n",
        "\n",
        "\n",
        "param_grid = {'n_estimators': np.arange(10, 50),'max_depth':[1, 3, 5, 7, 10], 'max_features': ['sqrt','log2','auto',None]} \n",
        "\n",
        "rf_gridmodel = GridSearchCV(RandomForestClassifier(), param_grid=param_grid, cv=10)\n",
        "\n",
        "rf_gridmodel.fit(preprocessor(X_train), y_train_labels)\n",
        "\n",
        "print(\"best mean cross-validation score: {:.3f}\".format(rf_gridmodel.best_score_))\n",
        "print(\"best parameters: {}\".format(rf_gridmodel.best_params_))\n"
      ],
      "metadata": {
        "colab": {
          "base_uri": "https://localhost:8080/"
        },
        "id": "KaPQTRtcOEzz",
        "outputId": "307598e4-c057-45df-aa39-3ba89eb4ac9f"
      },
      "execution_count": 25,
      "outputs": [
        {
          "output_type": "stream",
          "name": "stdout",
          "text": [
            "best mean cross-validation score: 0.672\n",
            "best parameters: {'max_depth': 10, 'max_features': 'auto', 'n_estimators': 10}\n"
          ]
        }
      ]
    },
    {
      "cell_type": "code",
      "source": [
        "# Grid Search CV - KNeighbors Classifier\n",
        "\n",
        "from sklearn.neighbors import KNeighborsClassifier\n",
        "from sklearn.model_selection import GridSearchCV\n",
        "import numpy as np\n",
        "\n",
        "\n",
        "param_grid = {'n_neighbors': np.arange(2, 10)} \n",
        "\n",
        "kn_gridmodel = GridSearchCV(KNeighborsClassifier(), param_grid=param_grid, cv=10)\n",
        "\n",
        "kn_gridmodel.fit(preprocessor(X_train), y_train_labels)\n",
        "\n",
        "print(\"best mean cross-validation score: {:.3f}\".format(kn_gridmodel.best_score_))\n",
        "print(\"best parameters: {}\".format(kn_gridmodel.best_params_))"
      ],
      "metadata": {
        "colab": {
          "base_uri": "https://localhost:8080/"
        },
        "id": "PQ55vuw6O9JM",
        "outputId": "c493a459-9569-4153-8d00-972fbc27953c"
      },
      "execution_count": 23,
      "outputs": [
        {
          "output_type": "stream",
          "name": "stdout",
          "text": [
            "best mean cross-validation score: 0.521\n",
            "best parameters: {'n_neighbors': 2}\n"
          ]
        }
      ]
    },
    {
      "cell_type": "code",
      "source": [
        "# Grid Search CV - Gradient Boosting\n",
        "\n",
        "from sklearn.ensemble import GradientBoostingClassifier\n",
        "from sklearn.model_selection import GridSearchCV\n",
        "import numpy as np\n",
        "\n",
        "\n",
        "param_grid = {'n_estimators': np.arange(10, 50),'max_depth':[1, 3, 5, 7, 10], 'learning_rate':[1.0,5.0,10.0],'max_features': ['sqrt','log2','auto',None]} \n",
        "\n",
        "gb_gridmodel = GridSearchCV(GradientBoostingClassifier(), param_grid=param_grid, cv=10)\n",
        "\n",
        "gb_gridmodel.fit(preprocessor(X_train), y_train_labels)\n",
        "\n",
        "print(\"best mean cross-validation score: {:.3f}\".format(gb_gridmodel.best_score_))\n",
        "print(\"best parameters: {}\".format(gb_gridmodel.best_params_))"
      ],
      "metadata": {
        "colab": {
          "base_uri": "https://localhost:8080/"
        },
        "id": "9PAwLzU4OqCc",
        "outputId": "fa40cd18-388d-47c9-cf0b-9d6929d505f0"
      },
      "execution_count": 26,
      "outputs": [
        {
          "output_type": "stream",
          "name": "stdout",
          "text": [
            "best mean cross-validation score: 0.683\n",
            "best parameters: {'learning_rate': 1.0, 'max_depth': 7, 'max_features': 'sqrt', 'n_estimators': 10}\n"
          ]
        }
      ]
    },
    {
      "cell_type": "markdown",
      "source": [
        "### Iterate More and Select Best Models"
      ],
      "metadata": {
        "id": "dcx4VURHbQpt"
      }
    },
    {
      "cell_type": "markdown",
      "source": [
        "My teammates also observed best performances in Random Forest and Gradient Boosting models as well, although our hyperparameters varied in terms of max depth, max features, and n estimators. I revised my range of n_estimators to be higher (50 vs. 100). For Random Forest, my model went from 0.672 to 0.749. For Gradient Boosting, my model went from 0.683 to 636, which is lower than before. For K-Nearest Neighbor, the accuracy improved to 0.564 from 0.521 when the ranged of N_neighbor decreased. \n"
      ],
      "metadata": {
        "id": "7Ma3Ow5sbTnh"
      }
    },
    {
      "cell_type": "code",
      "source": [
        "# Grid Search CV - Random Forest\n",
        "\n",
        "from sklearn.ensemble import RandomForestClassifier\n",
        "from sklearn.model_selection import GridSearchCV\n",
        "import numpy as np\n",
        "\n",
        "\n",
        "param_grid = {'n_estimators': np.arange(10, 100),'max_depth':[1, 3, 5, 7, 10], 'max_features': ['sqrt','log2','auto',None]} \n",
        "\n",
        "rf_gridmodel = GridSearchCV(RandomForestClassifier(), param_grid=param_grid, cv=10)\n",
        "\n",
        "rf_gridmodel.fit(preprocessor(X_train), y_train_labels)\n",
        "\n",
        "print(\"best mean cross-validation score: {:.3f}\".format(rf_gridmodel.best_score_))\n",
        "print(\"best parameters: {}\".format(rf_gridmodel.best_params_))\n"
      ],
      "metadata": {
        "colab": {
          "base_uri": "https://localhost:8080/"
        },
        "id": "61N3bPnYbVGm",
        "outputId": "d57af9d2-27c6-4946-936e-36b27144944b"
      },
      "execution_count": 46,
      "outputs": [
        {
          "output_type": "stream",
          "name": "stdout",
          "text": [
            "best mean cross-validation score: 0.749\n",
            "best parameters: {'max_depth': 10, 'max_features': 'sqrt', 'n_estimators': 41}\n"
          ]
        }
      ]
    },
    {
      "cell_type": "code",
      "source": [
        "# Grid Search CV - KNeighbors Classifier\n",
        "\n",
        "from sklearn.neighbors import KNeighborsClassifier\n",
        "from sklearn.model_selection import GridSearchCV\n",
        "import numpy as np\n",
        "\n",
        "\n",
        "param_grid = {'n_neighbors': np.arange(2, 5)} \n",
        "\n",
        "kn_gridmodel = GridSearchCV(KNeighborsClassifier(), param_grid=param_grid, cv=10)\n",
        "\n",
        "kn_gridmodel.fit(preprocessor(X_train), y_train_labels)\n",
        "\n",
        "print(\"best mean cross-validation score: {:.3f}\".format(kn_gridmodel.best_score_))\n",
        "print(\"best parameters: {}\".format(kn_gridmodel.best_params_))"
      ],
      "metadata": {
        "colab": {
          "base_uri": "https://localhost:8080/"
        },
        "id": "UZaBdJ5Z57b0",
        "outputId": "7aef6f5a-cd4d-4888-af99-d03943dee029"
      },
      "execution_count": 54,
      "outputs": [
        {
          "output_type": "stream",
          "name": "stdout",
          "text": [
            "best mean cross-validation score: 0.564\n",
            "best parameters: {'n_neighbors': 3}\n"
          ]
        }
      ]
    },
    {
      "cell_type": "code",
      "source": [
        "# Grid Search CV - Gradient Boosting\n",
        "\n",
        "from sklearn.ensemble import GradientBoostingClassifier\n",
        "from sklearn.model_selection import GridSearchCV\n",
        "import numpy as np\n",
        "\n",
        "\n",
        "param_grid = {'n_estimators': np.arange(10,100),'max_depth':[1, 5]} \n",
        "\n",
        "gb_gridmodel = GridSearchCV(GradientBoostingClassifier(), param_grid=param_grid, cv=10)\n",
        "\n",
        "gb_gridmodel.fit(preprocessor(X_train), y_train_labels)\n",
        "\n",
        "print(\"best mean cross-validation score: {:.3f}\".format(gb_gridmodel.best_score_))\n",
        "print(\"best parameters: {}\".format(gb_gridmodel.best_params_))"
      ],
      "metadata": {
        "colab": {
          "base_uri": "https://localhost:8080/"
        },
        "id": "ctkq8bXShh5y",
        "outputId": "5f2a475b-63a7-4d00-aecc-b00d34dbfb4a"
      },
      "execution_count": 60,
      "outputs": [
        {
          "output_type": "stream",
          "name": "stdout",
          "text": [
            "best mean cross-validation score: 0.636\n",
            "best parameters: {'max_depth': 1, 'n_estimators': 41}\n"
          ]
        }
      ]
    },
    {
      "cell_type": "markdown",
      "source": [
        "### Save Models"
      ],
      "metadata": {
        "id": "ePF3slslM3Y6"
      }
    },
    {
      "cell_type": "code",
      "source": [
        "import aimodelshare as ai\n",
        "ai.export_preprocessor(preprocessor,\"\") "
      ],
      "metadata": {
        "colab": {
          "base_uri": "https://localhost:8080/"
        },
        "id": "FduK7QadM6pB",
        "outputId": "1e3e2ba7-0059-406f-838e-b4bc673464b9"
      },
      "execution_count": 33,
      "outputs": [
        {
          "output_type": "stream",
          "name": "stdout",
          "text": [
            "Your preprocessor is now saved to 'preprocessor.zip'\n"
          ]
        }
      ]
    },
    {
      "cell_type": "code",
      "source": [
        "from skl2onnx.common.data_types import FloatTensorType\n",
        "\n",
        "feature_count=preprocessor(X_test).shape[1] #Get count of preprocessed features\n",
        "initial_type = [('float_input', FloatTensorType([None, feature_count]))]  #Insert correct number of preprocessed features"
      ],
      "metadata": {
        "id": "1XbiUGppMVkh"
      },
      "execution_count": 32,
      "outputs": []
    },
    {
      "cell_type": "code",
      "source": [
        "from aimodelshare.aimsonnx import model_to_onnx\n",
        "\n",
        "onnx_model = model_to_onnx(rf_gridmodel, framework='sklearn',\n",
        "                          initial_types=initial_type,\n",
        "                          transfer_learning=False,\n",
        "                          deep_learning=False)\n",
        "\n",
        "with open(\"rf_gridmodel.onnx\", \"wb\") as f:\n",
        "    f.write(onnx_model.SerializeToString())"
      ],
      "metadata": {
        "id": "8A5ClOgwJJYl"
      },
      "execution_count": 50,
      "outputs": []
    },
    {
      "cell_type": "code",
      "source": [
        "from aimodelshare.aimsonnx import model_to_onnx\n",
        "\n",
        "onnx_model = model_to_onnx(gb_gridmodel, framework='sklearn',\n",
        "                          initial_types=initial_type,\n",
        "                          transfer_learning=False,\n",
        "                          deep_learning=False)\n",
        "\n",
        "with open(\"gb_gridmodel.onnx\", \"wb\") as f:\n",
        "    f.write(onnx_model.SerializeToString())"
      ],
      "metadata": {
        "id": "2o0pZKzmNIiq",
        "colab": {
          "base_uri": "https://localhost:8080/"
        },
        "outputId": "71f86d64-2af3-49ce-e0d7-dc8d9fecfc85"
      },
      "execution_count": 37,
      "outputs": [
        {
          "output_type": "stream",
          "name": "stderr",
          "text": [
            "/usr/local/lib/python3.8/dist-packages/sklearn/utils/deprecation.py:103: FutureWarning: The attribute `n_features_` is deprecated in 1.0 and will be removed in 1.2. Use `n_features_in_` instead.\n",
            "  \n"
          ]
        }
      ]
    },
    {
      "cell_type": "code",
      "execution_count": 38,
      "metadata": {
        "id": "6Go4SF37Ex_Z"
      },
      "outputs": [],
      "source": [
        "from aimodelshare.aimsonnx import model_to_onnx\n",
        "\n",
        "onnx_model = model_to_onnx(kn_gridmodel, framework='sklearn',\n",
        "                          initial_types=initial_type,\n",
        "                          transfer_learning=False,\n",
        "                          deep_learning=False)\n",
        "\n",
        "with open(\"kn_gridmodel.onnx\", \"wb\") as f:\n",
        "    f.write(onnx_model.SerializeToString())"
      ]
    },
    {
      "cell_type": "markdown",
      "source": [
        "### Submit models on AI ModelShare\n"
      ],
      "metadata": {
        "id": "zL1CKkpczSaC"
      }
    },
    {
      "cell_type": "markdown",
      "source": [
        "My best models were \n",
        "* Random Forest with {'max_depth': 10, 'max_features': 'sqrt', 'n_estimators': 41}\n",
        "* Gradient Boosting with  {'learning_rate': 1.0, 'max_depth': 7, 'max_features': 'sqrt', 'n_estimators': 10}\n",
        "* K Nearest Neighbor with {'n_neighbors': 3}\n"
      ],
      "metadata": {
        "id": "z5cD9LG8EDu_"
      }
    },
    {
      "cell_type": "code",
      "execution_count": 40,
      "metadata": {
        "colab": {
          "base_uri": "https://localhost:8080/"
        },
        "id": "RtgkM02MDpkO",
        "outputId": "edef8aa1-0753-4317-a127-fc8a84d58212"
      },
      "outputs": [
        {
          "output_type": "stream",
          "name": "stdout",
          "text": [
            "AI Modelshare Username:··········\n",
            "AI Modelshare Password:··········\n",
            "AI Model Share login credentials set successfully.\n"
          ]
        }
      ],
      "source": [
        "#Set credentials using modelshare.org username/password\n",
        "\n",
        "from aimodelshare.aws import set_credentials\n",
        "\n",
        "#This is the unique rest api that powers this World Happiness Classification Playground -- make sure to update the apiurl for new competition deployments\n",
        "apiurl=\"https://e2w6gh3id1.execute-api.us-east-2.amazonaws.com/prod/m\"\n",
        "\n",
        "set_credentials(apiurl=apiurl)"
      ]
    },
    {
      "cell_type": "code",
      "execution_count": 41,
      "metadata": {
        "id": "fKNGSww8EGgi"
      },
      "outputs": [],
      "source": [
        "#Instantiate Competition\n",
        "import aimodelshare as ai\n",
        "mycompetition= ai.Competition(apiurl)"
      ]
    },
    {
      "cell_type": "code",
      "execution_count": 43,
      "metadata": {
        "colab": {
          "base_uri": "https://localhost:8080/"
        },
        "id": "_Ql4wksyEUnP",
        "outputId": "2aab6a82-392c-4f3b-fc26-5f590045ee1f"
      },
      "outputs": [
        {
          "output_type": "stream",
          "name": "stdout",
          "text": [
            "Insert search tags to help users find your model (optional): GB_Final\n",
            "Provide any useful notes about your model (optional): \n",
            "\n",
            "Your model has been submitted as model version 694\n",
            "\n",
            "To submit code used to create this model or to view current leaderboard navigate to Model Playground: \n",
            "\n",
            " https://www.modelshare.org/detail/model:3164\n"
          ]
        }
      ],
      "source": [
        "# Submit gradient_model_final \n",
        "\n",
        "#-- Generate predicted values (Model 1)\n",
        "prediction_labels = gb_gridmodel.predict(preprocessor(X_test))\n",
        "\n",
        "# Submit Model to Competition Leaderboard\n",
        "mycompetition.submit_model(model_filepath = \"gb_gridmodel.onnx\",\n",
        "                                 preprocessor_filepath=\"preprocessor.zip\",\n",
        "                                 prediction_submission=prediction_labels,\n",
        "                                  custom_metadata = {\"team\":\"4\"})"
      ]
    },
    {
      "cell_type": "code",
      "source": [
        "# Submit random_forest_model_final \n",
        "\n",
        "#-- Generate predicted values (Model 1)\n",
        "prediction_labels = rf_gridmodel.predict(preprocessor(X_test))\n",
        "\n",
        "# Submit Model to Competition Leaderboard\n",
        "mycompetition.submit_model(model_filepath = \"rf_gridmodel.onnx\",\n",
        "                                 preprocessor_filepath=\"preprocessor.zip\",\n",
        "                                 prediction_submission=prediction_labels,\n",
        "                                  custom_metadata = {\"team\":\"4\"})"
      ],
      "metadata": {
        "colab": {
          "base_uri": "https://localhost:8080/"
        },
        "id": "stnsXzN6Y1-V",
        "outputId": "188f270c-b3ee-4ebd-88bf-cc8a81e2a80a"
      },
      "execution_count": 51,
      "outputs": [
        {
          "output_type": "stream",
          "name": "stdout",
          "text": [
            "Insert search tags to help users find your model (optional): RF_Final\n",
            "Provide any useful notes about your model (optional): updated N_Estimators\n",
            "\n",
            "Your model has been submitted as model version 758\n",
            "\n",
            "To submit code used to create this model or to view current leaderboard navigate to Model Playground: \n",
            "\n",
            " https://www.modelshare.org/detail/model:3164\n"
          ]
        }
      ]
    },
    {
      "cell_type": "code",
      "source": [
        "# Submit knn_model_final \n",
        "\n",
        "#-- Generate predicted values (Model 1)\n",
        "prediction_labels = kn_gridmodel.predict(preprocessor(X_test))\n",
        "\n",
        "# Submit Model 1 to Competition Leaderboard\n",
        "mycompetition.submit_model(model_filepath = \"kn_gridmodel.onnx\",\n",
        "                                 preprocessor_filepath=\"preprocessor.zip\",\n",
        "                                 prediction_submission=prediction_labels,\n",
        "                                  custom_metadata = {\"team\":\"4\"})"
      ],
      "metadata": {
        "colab": {
          "base_uri": "https://localhost:8080/"
        },
        "id": "73egc7hX5fmv",
        "outputId": "aa1effe6-7b5b-41de-dd2f-b520728cd592"
      },
      "execution_count": 56,
      "outputs": [
        {
          "output_type": "stream",
          "name": "stdout",
          "text": [
            "Insert search tags to help users find your model (optional): KN_Final\n",
            "Provide any useful notes about your model (optional): \n",
            "\n",
            "Your model has been submitted as model version 763\n",
            "\n",
            "To submit code used to create this model or to view current leaderboard navigate to Model Playground: \n",
            "\n",
            " https://www.modelshare.org/detail/model:3164\n"
          ]
        }
      ]
    }
  ],
  "metadata": {
    "colab": {
      "provenance": []
    },
    "kernelspec": {
      "display_name": "Python 3",
      "name": "python3"
    },
    "language_info": {
      "name": "python"
    }
  },
  "nbformat": 4,
  "nbformat_minor": 0
}